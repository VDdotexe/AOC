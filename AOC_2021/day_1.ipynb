{
 "cells": [
  {
   "cell_type": "code",
   "execution_count": 3,
   "metadata": {},
   "outputs": [],
   "source": [
    "from utilities import *"
   ]
  },
  {
   "cell_type": "code",
   "execution_count": 12,
   "metadata": {},
   "outputs": [],
   "source": [
    "contents = parsing_multi(\"day_1_pz.txt\")"
   ]
  },
  {
   "cell_type": "code",
   "execution_count": 13,
   "metadata": {},
   "outputs": [],
   "source": [
    "#contents = [199, 200, 208,210,200,207,240,269,260, 263]"
   ]
  },
  {
   "cell_type": "code",
   "execution_count": 22,
   "metadata": {},
   "outputs": [
    {
     "name": "stdout",
     "output_type": "stream",
     "text": [
      "1529\n",
      "471\n"
     ]
    }
   ],
   "source": [
    "# part 1\n",
    "\n",
    "count_inc = 0\n",
    "count_dec = 0\n",
    "for i in range(1, len(contents)): # ans will more 1 + the ans here\n",
    "    if contents[i] > contents[i-1]:\n",
    "        count_inc += 1\n",
    "    else:\n",
    "        count_dec +=1\n",
    "\n",
    "print(count_inc+1)\n",
    "print(count_dec)"
   ]
  },
  {
   "cell_type": "code",
   "execution_count": 31,
   "metadata": {},
   "outputs": [
    {
     "name": "stdout",
     "output_type": "stream",
     "text": [
      "1566\n"
     ]
    }
   ],
   "source": [
    "## part 2 \n",
    "first_window= 0\n",
    "sec_window = 0\n",
    "sum_window =list()\n",
    "for i in range(0, len(contents)-3):\n",
    "    wind_sum = int(contents[i]) + int(contents[i+1]) + int(contents[i+2])\n",
    "    sum_window.append(wind_sum)\n",
    "\n",
    "for i in range(1, len(sum_window)):\n",
    "    if sum_window[i] > sum_window[i-1]:\n",
    "        first_window += 1\n",
    "    else:\n",
    "        sec_window += 1\n",
    "\n",
    "\n",
    "print(first_window)\n"
   ]
  },
  {
   "cell_type": "code",
   "execution_count": null,
   "metadata": {},
   "outputs": [],
   "source": []
  }
 ],
 "metadata": {
  "kernelspec": {
   "display_name": "Python 3",
   "language": "python",
   "name": "python3"
  },
  "language_info": {
   "codemirror_mode": {
    "name": "ipython",
    "version": 3
   },
   "file_extension": ".py",
   "mimetype": "text/x-python",
   "name": "python",
   "nbconvert_exporter": "python",
   "pygments_lexer": "ipython3",
   "version": "3.11.4"
  }
 },
 "nbformat": 4,
 "nbformat_minor": 2
}
