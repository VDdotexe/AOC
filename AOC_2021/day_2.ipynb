{
 "cells": [
  {
   "cell_type": "code",
   "execution_count": 1,
   "metadata": {},
   "outputs": [],
   "source": [
    "from utilities import *"
   ]
  },
  {
   "cell_type": "code",
   "execution_count": 19,
   "metadata": {},
   "outputs": [],
   "source": [
    "contents = parsing_multi(\"day_2_pz.txt\")\n"
   ]
  },
  {
   "cell_type": "code",
   "execution_count": 15,
   "metadata": {},
   "outputs": [
    {
     "name": "stdout",
     "output_type": "stream",
     "text": [
      "1975   800  are the horizontal and deep position with  1580000\n"
     ]
    }
   ],
   "source": [
    "# part 1 of the puzzle\n",
    "hor_pos = 0\n",
    "dep_pos = 0\n",
    "\n",
    "for content in contents:\n",
    "    cont_split = content.split(\" \")\n",
    "    if cont_split[0] == 'forward':\n",
    "        hor_pos += int(cont_split[1])\n",
    "    elif cont_split[0] == 'up':\n",
    "        dep_pos -= int(cont_split[1])\n",
    "    else:\n",
    "        dep_pos += int(cont_split[1])\n",
    "\n",
    "\n",
    "print(hor_pos,\" \" ,dep_pos, \" are the horizontal and deep position with \", hor_pos*dep_pos)"
   ]
  },
  {
   "cell_type": "code",
   "execution_count": 21,
   "metadata": {},
   "outputs": [
    {
     "name": "stdout",
     "output_type": "stream",
     "text": [
      "1975   633551  are the horizontal and deep position with  1251263225\n"
     ]
    }
   ],
   "source": [
    "# part 2 of the puzzle\n",
    "hor_pos = 0\n",
    "dep_pos = 0\n",
    "aim_pos = 0\n",
    "\n",
    "for content in contents:\n",
    "    cont_split = content.split(\" \")\n",
    "    if cont_split[0] == 'forward':\n",
    "        hor_pos += int(cont_split[1])\n",
    "        dep_pos += aim_pos * int(cont_split[1])\n",
    "    elif cont_split[0] == 'up':\n",
    "        aim_pos -= int(cont_split[1])\n",
    "    else:\n",
    "        aim_pos += int(cont_split[1])\n",
    "\n",
    "\n",
    "print(hor_pos,\" \" ,dep_pos, \" are the horizontal and deep position with \", hor_pos*dep_pos)"
   ]
  },
  {
   "cell_type": "code",
   "execution_count": null,
   "metadata": {},
   "outputs": [],
   "source": []
  }
 ],
 "metadata": {
  "kernelspec": {
   "display_name": "Python 3",
   "language": "python",
   "name": "python3"
  },
  "language_info": {
   "codemirror_mode": {
    "name": "ipython",
    "version": 3
   },
   "file_extension": ".py",
   "mimetype": "text/x-python",
   "name": "python",
   "nbconvert_exporter": "python",
   "pygments_lexer": "ipython3",
   "version": "3.11.4"
  }
 },
 "nbformat": 4,
 "nbformat_minor": 2
}
