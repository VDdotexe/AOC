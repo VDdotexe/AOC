{
 "cells": [
  {
   "cell_type": "code",
   "execution_count": 69,
   "metadata": {},
   "outputs": [],
   "source": [
    "import numpy as np\n",
    "import pandas as pd"
   ]
  },
  {
   "cell_type": "code",
   "execution_count": null,
   "metadata": {},
   "outputs": [
    {
     "data": {
      "text/plain": [
       "1025636"
      ]
     },
     "execution_count": 2,
     "metadata": {},
     "output_type": "execute_result"
    }
   ],
   "source": [
    "## puzzle 1\n",
    "\n",
    "diagnostic_report= list()\n",
    "with open(\"day_3_pz.txt\", \"r\") as file:\n",
    "    for line in file.readlines():\n",
    "        diagnostic_report.append(line.strip())\n",
    "\n",
    "\n",
    "num_bits= len(diagnostic_report[0])\n",
    "gamma_rate = \"\"\n",
    "epsilon_rate = \"\"\n",
    "\n",
    "for i in range(num_bits): # this is for every column\n",
    "    bit_column = list()\n",
    "    for byte in diagnostic_report:\n",
    "        bit_column.append(byte[i])\n",
    "    count_0 = bit_column.count(\"0\")\n",
    "    count_1 = bit_column.count(\"1\")\n",
    "\n",
    "    if count_1 > count_0:\n",
    "        gamma_rate += \"1\"\n",
    "        epsilon_rate += \"0\"\n",
    "    else:\n",
    "        gamma_rate += \"0\"\n",
    "        epsilon_rate += \"1\"\n",
    "\n",
    "\n",
    "total_power= int(gamma_rate, 2) * int(epsilon_rate, 2)\n",
    "\n",
    "total_power"
   ]
  },
  {
   "cell_type": "code",
   "execution_count": 5,
   "metadata": {},
   "outputs": [],
   "source": [
    "# puzzle 2\n",
    "\n",
    "'''\n",
    "Oxygen Generator Rating:\n",
    "\n",
    "First bit: most common is 1 → keep numbers starting with 1.\n",
    "Second bit: most common is 0 → keep numbers with 0 in second position.\n",
    "Continue until one number remains: 10111 (decimal 23).\n",
    "CO2 Scrubber Rating:\n",
    "\n",
    "First bit: least common is 0 → keep numbers starting with 0.\n",
    "Second bit: least common is 1 → keep numbers with 1 in second position.\n",
    "Continue until one number remains: 01010 (decimal 10).\n",
    "Life Support Rating:\n",
    "\n",
    "Multiply the two: 23 × 10 = 230\n",
    "'''\n",
    "def get_rating(numbers, criteria):\n",
    "    candidates = numbers[:]\n",
    "    num_bits = len(numbers[0])\n",
    "    for i in range(num_bits):\n",
    "        if len(candidates) == 1:\n",
    "            break\n",
    "        bit_column = [num[i] for num in candidates]\n",
    "        count_0 = bit_column.count('0')\n",
    "        count_1 = bit_column.count('1')\n",
    "        if criteria == \"oxygen\":\n",
    "            # Most common: keep '1' if tie\n",
    "            if count_1 >= count_0:\n",
    "                keep = '1'\n",
    "            else:\n",
    "                keep = '0'\n",
    "        else:  # CO2\n",
    "            # Least common: keep '0' if tie\n",
    "            if count_0 <= count_1:\n",
    "                keep = '0'\n",
    "            else:\n",
    "                keep = '1'\n",
    "        candidates = [num for num in candidates if num[i] == keep]\n",
    "    return candidates[0]\n"
   ]
  },
  {
   "cell_type": "code",
   "execution_count": 6,
   "metadata": {},
   "outputs": [
    {
     "name": "stdout",
     "output_type": "stream",
     "text": [
      "Oxygen Generator Rating: 3089\n",
      "CO2 Scrubber Rating: 257\n",
      "Life Support Rating: 793873\n"
     ]
    }
   ],
   "source": [
    "# Read input\n",
    "with open(\"day_3_pz.txt\", \"r\") as file:\n",
    "    diagnostic_report = [line.strip() for line in file.readlines()]\n",
    "\n",
    "oxygen_rating_bin = get_rating(diagnostic_report, \"oxygen\")\n",
    "co2_rating_bin = get_rating(diagnostic_report, \"co2\")\n",
    "\n",
    "oxygen_rating = int(oxygen_rating_bin, 2)\n",
    "co2_rating = int(co2_rating_bin, 2)\n",
    "life_support_rating = oxygen_rating * co2_rating\n",
    "\n",
    "print(\"Oxygen Generator Rating:\", oxygen_rating)\n",
    "print(\"CO2 Scrubber Rating:\", co2_rating)\n",
    "print(\"Life Support Rating:\", life_support_rating)"
   ]
  },
  {
   "cell_type": "code",
   "execution_count": null,
   "metadata": {},
   "outputs": [],
   "source": []
  }
 ],
 "metadata": {
  "kernelspec": {
   "display_name": "Python 3",
   "language": "python",
   "name": "python3"
  },
  "language_info": {
   "codemirror_mode": {
    "name": "ipython",
    "version": 3
   },
   "file_extension": ".py",
   "mimetype": "text/x-python",
   "name": "python",
   "nbconvert_exporter": "python",
   "pygments_lexer": "ipython3",
   "version": "3.12.4"
  }
 },
 "nbformat": 4,
 "nbformat_minor": 2
}
