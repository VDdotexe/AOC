{
 "cells": [
  {
   "cell_type": "code",
   "execution_count": 1,
   "metadata": {},
   "outputs": [],
   "source": [
    "from utilities import *"
   ]
  },
  {
   "cell_type": "code",
   "execution_count": 63,
   "metadata": {},
   "outputs": [],
   "source": [
    "contents = parsing_multi(\"day_3_pz.txt\")"
   ]
  },
  {
   "cell_type": "code",
   "execution_count": 29,
   "metadata": {},
   "outputs": [],
   "source": [
    "def find_max_min_occur_char(lst):\n",
    "    char_count = {}\n",
    "    \n",
    "    for char in lst:\n",
    "        if char in char_count.keys():\n",
    "            char_count[char] += 1\n",
    "        else:\n",
    "            char_count[char] = 1\n",
    "    \n",
    "    max_val = 0\n",
    "    max_char = 0\n",
    "\n",
    "    min_val = len(contents)\n",
    "    min_char = 0\n",
    "\n",
    "    for k, v in char_count.items():\n",
    "        if v > max_val:\n",
    "            max_val = v\n",
    "            max_char = k\n",
    "    \n",
    "    for k, v in char_count.items():\n",
    "        if v < min_val:\n",
    "            min_val = v\n",
    "            min_char = k\n",
    "\n",
    "    return [max_char,min_char]\n",
    "\n",
    "def bin_to_val(lstt):\n",
    "    summ = 0\n",
    "    end = len(lstt) - 1\n",
    "    for i in range(0, len(lstt)):\n",
    "        summ += int(lstt[i])*(2**(end))\n",
    "        end -= 1     \n",
    "    return summ"
   ]
  },
  {
   "cell_type": "code",
   "execution_count": 71,
   "metadata": {},
   "outputs": [
    {
     "name": "stdout",
     "output_type": "stream",
     "text": [
      "1025636\n"
     ]
    }
   ],
   "source": [
    "gamma_rate = list()\n",
    "epsilon_rate = list()\n",
    "for i in range(0, len(contents[0])):\n",
    "    column_wise = list()\n",
    "    for content in contents:\n",
    "        column_wise.append(content[i])\n",
    "    gamma_rate.append(find_max_min_occur_char(column_wise)[0])\n",
    "    epsilon_rate.append(find_max_min_occur_char(column_wise)[1])\n",
    "\n",
    "\n",
    "g_rate = bin_to_val(gamma_rate)\n",
    "e_rate = bin_to_val(epsilon_rate)\n",
    "print(g_rate * e_rate)"
   ]
  },
  {
   "cell_type": "code",
   "execution_count": null,
   "metadata": {},
   "outputs": [],
   "source": [
    "import statsmodels.api as sm\n",
    "from statsmodels.formula.api import ols\n",
    "\n",
    "model = ols('column1 ~ group', data=df).fit()\n",
    "\n",
    "anova_table = sm.stats.anova_lm(model, typ=2)\n",
    "print(anova_table)"
   ]
  },
  {
   "cell_type": "code",
   "execution_count": 3,
   "metadata": {},
   "outputs": [],
   "source": [
    "def rev(s):\n",
    "    '''\n",
    "    input:\n",
    "    s -> an input string consisting of multiple words\n",
    "    \n",
    "    output:\n",
    "    rev_s -> an output string consisting of the same words, but in reverse order\n",
    "    '''\n",
    "    rev_s = \"\"\n",
    "    \n",
    "    # Your code starts here\n",
    "    words = s.split(\" \")\n",
    "    rev_w = words[::-1]\n",
    "    rev_s = \" \".join(rev_w)\n",
    "\n",
    "    return rev_s"
   ]
  },
  {
   "cell_type": "code",
   "execution_count": 4,
   "metadata": {},
   "outputs": [
    {
     "data": {
      "text/plain": [
       "'text sample a is this'"
      ]
     },
     "execution_count": 4,
     "metadata": {},
     "output_type": "execute_result"
    }
   ],
   "source": [
    "ss = \"this is a sample text\"\n",
    "rev(ss)"
   ]
  },
  {
   "cell_type": "code",
   "execution_count": 6,
   "metadata": {},
   "outputs": [
    {
     "name": "stdout",
     "output_type": "stream",
     "text": [
      "['Hello', '890']\n"
     ]
    }
   ],
   "source": [
    "my_list = [\"Woww!\", \"#46778\", \"Hello\", \"Good Morning\", \"890\"]\n",
    "\n",
    "l = [n for n in my_list if n.isalpha() or n.isdigit()]\n",
    "print(l)"
   ]
  },
  {
   "cell_type": "code",
   "execution_count": 7,
   "metadata": {},
   "outputs": [
    {
     "name": "stdout",
     "output_type": "stream",
     "text": [
      "[5, 3, 11, 10, 4]\n"
     ]
    }
   ],
   "source": [
    "def custome_func(arr,n):\n",
    "    length = len(arr)\n",
    "    n = n% length\n",
    "    lst = []\n",
    "    for i in range(length):\n",
    "        new_index = (i + n) % length\n",
    "        lst.append(arr[new_index])\n",
    "    return lst\n",
    "\n",
    "orig_lst = [10,4,5,3,11]\n",
    "n = 2\n",
    "new_lst = custome_func(orig_lst, n)\n",
    "print(new_lst)\n"
   ]
  },
  {
   "cell_type": "code",
   "execution_count": 8,
   "metadata": {},
   "outputs": [],
   "source": [
    "sampleDict = {\"class\":{\"student\":{\"name\": \"Mike\", \"marks\": {\"physics\": 70, \"history\": 80}}}}"
   ]
  },
  {
   "cell_type": "code",
   "execution_count": 12,
   "metadata": {},
   "outputs": [
    {
     "data": {
      "text/plain": [
       "80"
      ]
     },
     "execution_count": 12,
     "metadata": {},
     "output_type": "execute_result"
    }
   ],
   "source": [
    "sampleDict[\"class\"][\"student\"][\"marks\"][\"history\"]"
   ]
  },
  {
   "cell_type": "code",
   "execution_count": 44,
   "metadata": {},
   "outputs": [],
   "source": [
    "import numpy as np\n",
    "import math"
   ]
  },
  {
   "cell_type": "code",
   "execution_count": 45,
   "metadata": {},
   "outputs": [],
   "source": [
    "\n",
    "def calculate_min(a,b,c,d,n):\n",
    "    num = None\n",
    "    min_val = list()\n",
    "    #YOUR CODE GOES HERE\n",
    "    for i in range(1,n):\n",
    "        val = a*math.pow(i,3) + b*math.pow(i,2) + c*math.pow(i,1) + d\n",
    "        min_val.append(val)\n",
    "    \n",
    "    num = min_val.index(min(min_val)) + 1\n",
    "    return num"
   ]
  },
  {
   "cell_type": "code",
   "execution_count": 46,
   "metadata": {},
   "outputs": [
    {
     "data": {
      "text/plain": [
       "1"
      ]
     },
     "execution_count": 46,
     "metadata": {},
     "output_type": "execute_result"
    }
   ],
   "source": [
    "calculate_min(1,5,-3,1, 200)"
   ]
  },
  {
   "cell_type": "code",
   "execution_count": 47,
   "metadata": {},
   "outputs": [
    {
     "data": {
      "text/plain": [
       "array([0, 3, 4, 1, 5, 2, 6], dtype=int64)"
      ]
     },
     "execution_count": 47,
     "metadata": {},
     "output_type": "execute_result"
    }
   ],
   "source": [
    "a = np.array([10,52,62,16,16,54,453])\n",
    "\n",
    "np.argsort(a)\n"
   ]
  },
  {
   "cell_type": "code",
   "execution_count": 49,
   "metadata": {},
   "outputs": [],
   "source": [
    " arr= np.array([[1,2,3],\n",
    "                 [4,5,6],\n",
    "                 [7,8,9]])"
   ]
  },
  {
   "cell_type": "code",
   "execution_count": 51,
   "metadata": {},
   "outputs": [
    {
     "data": {
      "text/plain": [
       "array([[5, 6],\n",
       "       [8, 9]])"
      ]
     },
     "execution_count": 51,
     "metadata": {},
     "output_type": "execute_result"
    }
   ],
   "source": [
    "arr[arr[:,0] > 3 , 1:]"
   ]
  },
  {
   "cell_type": "code",
   "execution_count": 59,
   "metadata": {},
   "outputs": [
    {
     "data": {
      "text/plain": [
       "array([ 0,  2,  4,  5,  7, 10, 11], dtype=int64)"
      ]
     },
     "execution_count": 59,
     "metadata": {},
     "output_type": "execute_result"
    }
   ],
   "source": [
    "n_array = np.array([0,1,0,2,0,0,3,0,5,7,0,0,8])\n",
    "np.where(n_array == 0)[0]"
   ]
  },
  {
   "cell_type": "code",
   "execution_count": 63,
   "metadata": {},
   "outputs": [
    {
     "data": {
      "text/plain": [
       "<function ndarray.sum>"
      ]
     },
     "execution_count": 63,
     "metadata": {},
     "output_type": "execute_result"
    }
   ],
   "source": [
    "np.diagonal(arr).sum"
   ]
  },
  {
   "cell_type": "code",
   "execution_count": null,
   "metadata": {},
   "outputs": [],
   "source": []
  }
 ],
 "metadata": {
  "kernelspec": {
   "display_name": "Python 3",
   "language": "python",
   "name": "python3"
  },
  "language_info": {
   "codemirror_mode": {
    "name": "ipython",
    "version": 3
   },
   "file_extension": ".py",
   "mimetype": "text/x-python",
   "name": "python",
   "nbconvert_exporter": "python",
   "pygments_lexer": "ipython3",
   "version": "3.11.4"
  }
 },
 "nbformat": 4,
 "nbformat_minor": 2
}
