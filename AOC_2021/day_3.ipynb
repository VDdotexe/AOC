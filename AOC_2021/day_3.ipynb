{
 "cells": [
  {
   "cell_type": "code",
   "execution_count": 69,
   "metadata": {},
   "outputs": [],
   "source": [
    "import numpy as np\n",
    "import pandas as pd"
   ]
  },
  {
   "cell_type": "code",
   "execution_count": 2,
   "metadata": {},
   "outputs": [
    {
     "data": {
      "text/plain": [
       "1025636"
      ]
     },
     "execution_count": 2,
     "metadata": {},
     "output_type": "execute_result"
    }
   ],
   "source": [
    "## puzzle 1\n",
    "\n",
    "diagnostic_report= list()\n",
    "with open(\"day_3_pz.txt\", \"r\") as file:\n",
    "    for line in file.readlines():\n",
    "        diagnostic_report.append(line.strip())\n",
    "\n",
    "\n",
    "num_bits= len(diagnostic_report[0])\n",
    "gamma_rate = \"\"\n",
    "epsilon_rate = \"\"\n",
    "\n",
    "for i in range(num_bits): # this is for every column\n",
    "    bit_column = list()\n",
    "    for byte in diagnostic_report:\n",
    "        bit_column.append(byte[i])\n",
    "    count_0 = bit_column.count(\"0\")\n",
    "    count_1 = bit_column.count(\"1\")\n",
    "\n",
    "    if count_1 > count_0:\n",
    "        gamma_rate += \"1\"\n",
    "        epsilon_rate += \"0\"\n",
    "    else:\n",
    "        gamma_rate += \"0\"\n",
    "        epsilon_rate += \"1\"\n",
    "\n",
    "\n",
    "total_power= int(gamma_rate, 2) * int(epsilon_rate, 2)\n",
    "\n",
    "total_power\n",
    "        "
   ]
  },
  {
   "cell_type": "code",
   "execution_count": 3,
   "metadata": {},
   "outputs": [],
   "source": [
    "# puzzle 2"
   ]
  },
  {
   "cell_type": "code",
   "execution_count": null,
   "metadata": {},
   "outputs": [],
   "source": []
  }
 ],
 "metadata": {
  "kernelspec": {
   "display_name": "Python 3",
   "language": "python",
   "name": "python3"
  },
  "language_info": {
   "codemirror_mode": {
    "name": "ipython",
    "version": 3
   },
   "file_extension": ".py",
   "mimetype": "text/x-python",
   "name": "python",
   "nbconvert_exporter": "python",
   "pygments_lexer": "ipython3",
   "version": "3.12.4"
  }
 },
 "nbformat": 4,
 "nbformat_minor": 2
}
