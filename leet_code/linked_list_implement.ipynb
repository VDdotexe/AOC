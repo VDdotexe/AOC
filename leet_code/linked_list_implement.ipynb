{
 "cells": [
  {
   "cell_type": "code",
   "execution_count": 1,
   "metadata": {},
   "outputs": [
    {
     "name": "stdout",
     "output_type": "stream",
     "text": [
      "1 2 3 4 5 6 7 8 "
     ]
    }
   ],
   "source": [
    "class Node:\n",
    "    def __init__(self, data=None):\n",
    "        self.data = data\n",
    "        self.next = None\n",
    "\n",
    "class LinkedList:\n",
    "    def __init__(self):\n",
    "        self.head = None\n",
    "\n",
    "    def insert(self, data):\n",
    "        new_node = Node(data)\n",
    "        if self.head is None:\n",
    "            self.head = new_node\n",
    "        else:\n",
    "            current = self.head\n",
    "            while current.next:\n",
    "                current = current.next\n",
    "            current.next = new_node\n",
    "    \n",
    "    def merge_alternatively(self, list1, list2):\n",
    "        if list1.head is None:\n",
    "            return list2.head\n",
    "        if list2.head is None:\n",
    "            return list1.head\n",
    "        \n",
    "        merged_list = LinkedList()\n",
    "        current1 = list1.head\n",
    "        current2 = list2.head\n",
    "        \n",
    "        while current1 and current2:\n",
    "            merged_list.insert(current1.data)\n",
    "            merged_list.insert(current2.data)\n",
    "            current1 = current1.next\n",
    "            current2 = current2.next\n",
    "        \n",
    "        while current1:\n",
    "            merged_list.insert(current1.data)\n",
    "            current1 = current1.next\n",
    "        \n",
    "        while current2:\n",
    "            merged_list.insert(current2.data)\n",
    "            current2 = current2.next\n",
    "        \n",
    "        return merged_list\n",
    "\n",
    "# Create first linked list\n",
    "list1 = LinkedList()\n",
    "list1.insert(1)\n",
    "list1.insert(3)\n",
    "list1.insert(5)\n",
    "\n",
    "# Create second linked list\n",
    "list2 = LinkedList()\n",
    "list2.insert(2)\n",
    "list2.insert(4)\n",
    "list2.insert(6)\n",
    "list2.insert(7)\n",
    "list2.insert(8)\n",
    "\n",
    "# Merge the two lists alternatively\n",
    "merged_list = LinkedList().merge_alternatively(list1, list2)\n",
    "\n",
    "# Print the merged list\n",
    "current = merged_list.head\n",
    "while current:\n",
    "    print(current.data, end=\" \")\n",
    "    current = current.next"
   ]
  },
  {
   "cell_type": "code",
   "execution_count": 2,
   "metadata": {},
   "outputs": [
    {
     "name": "stdout",
     "output_type": "stream",
     "text": [
      "1  ->  4  ->  0  ->  4  ->  1  ->  9  ->  9  ->  2  ->  "
     ]
    }
   ],
   "source": [
    "## linked list implementation\n",
    "\n",
    "class Node:\n",
    "    def __init__(self, data = None):\n",
    "        self.data = data\n",
    "        self.next = None \n",
    "\n",
    "class LinkList:\n",
    "    def __init__(self):\n",
    "        self.head = None\n",
    "    \n",
    "    def insert(self, data):\n",
    "        new_node = Node(data)\n",
    "\n",
    "        if self.head is None:\n",
    "            self.head = new_node\n",
    "        else:\n",
    "            curr_node = self.head\n",
    "            while(curr_node.next):\n",
    "                curr_node = curr_node.next\n",
    "            curr_node.next = new_node\n",
    "\n",
    "lst1 = LinkList()\n",
    "lst1.insert(1)\n",
    "lst1.insert(4)\n",
    "lst1.insert(0)\n",
    "lst1.insert(4)\n",
    "lst1.insert(1)\n",
    "lst1.insert(9)\n",
    "lst1.insert(9)\n",
    "lst1.insert(2)\n",
    "dummy = lst1.head\n",
    "while(dummy is not None):\n",
    "    print(dummy.data, \" -> \", end = \" \")\n",
    "    dummy = dummy.next"
   ]
  },
  {
   "cell_type": "code",
   "execution_count": 3,
   "metadata": {},
   "outputs": [
    {
     "name": "stdout",
     "output_type": "stream",
     "text": [
      "in-order traversal----->\n",
      "2\n",
      "5\n",
      "6\n",
      "7\n",
      "8\n",
      "10\n",
      "12\n",
      "15\n",
      "20\n",
      "30\n"
     ]
    }
   ],
   "source": []
  },
  {
   "cell_type": "code",
   "execution_count": null,
   "metadata": {},
   "outputs": [],
   "source": []
  }
 ],
 "metadata": {
  "kernelspec": {
   "display_name": "Python 3",
   "language": "python",
   "name": "python3"
  },
  "language_info": {
   "codemirror_mode": {
    "name": "ipython",
    "version": 3
   },
   "file_extension": ".py",
   "mimetype": "text/x-python",
   "name": "python",
   "nbconvert_exporter": "python",
   "pygments_lexer": "ipython3",
   "version": "3.11.4"
  }
 },
 "nbformat": 4,
 "nbformat_minor": 2
}
