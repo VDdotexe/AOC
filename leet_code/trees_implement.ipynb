{
 "cells": [
  {
   "cell_type": "code",
   "execution_count": 10,
   "metadata": {},
   "outputs": [
    {
     "name": "stdout",
     "output_type": "stream",
     "text": [
      "Height of the binary tree: 5\n"
     ]
    }
   ],
   "source": [
    "## Tree implementation\n",
    "class Node:\n",
    "    def __init__(self, value):\n",
    "        self. left = None\n",
    "        self.data = value\n",
    "        self.right = None\n",
    "\n",
    "class Tree:\n",
    "    def createnode(self, data):\n",
    "        return Node(data)\n",
    "    \n",
    "    def insert(self, node, data):\n",
    "        if node is None:\n",
    "            return self.createnode(data)\n",
    "        if data < node.data:\n",
    "            node.left = self.insert(node.left, data)\n",
    "        else:\n",
    "            node.right = self.insert(node.right, data)\n",
    "        \n",
    "        return node \n",
    "    \n",
    "    def traverse_inorder(self, rootnode): # method to print the tree in-order\n",
    "        if rootnode is not None: # L RT R\n",
    "            self.traverse_inorder(rootnode.left)\n",
    "            print(rootnode.data)\n",
    "            self.traverse_inorder(rootnode.right)\n",
    "\n",
    "    \n",
    "    def traverse_preorder(self, rootnode): # method to print the tree pre-order\n",
    "        if rootnode is not None:  # rt L R\n",
    "            print(rootnode.data)\n",
    "            self.traverse_preorder(rootnode.left)\n",
    "            self.traverse_preorder(rootnode.right)\n",
    "\n",
    "    def traverse_postorder(self, rootnode): # method to print the tree post-order\n",
    "        if rootnode is not None:  # L R rt\n",
    "            self.traverse_postorder(rootnode.left)\n",
    "            self.traverse_postorder(rootnode.right)\n",
    "            print(rootnode.data)\n",
    "    \n",
    "    # Function to calculate the height of a binary tree\n",
    "    def height(self, node):\n",
    "        if node is None:\n",
    "            return 0\n",
    "        else:\n",
    "            left_height = self.height(node.left)\n",
    "            right_height = self.height(node.right)\n",
    "            \n",
    "            # Return the maximum height between the left and right subtrees, plus 1 for the current node\n",
    "            return max(left_height, right_height) + 1\n",
    "\n",
    "\n",
    "tree = Tree()\n",
    "root = tree.createnode(5)\n",
    "\n",
    "tree.insert(root, 2)\n",
    "tree.insert(root, 10)\n",
    "tree.insert(root, 7)\n",
    "tree.insert(root, 15)\n",
    "tree.insert(root, 12)\n",
    "tree.insert(root, 20)\n",
    "tree.insert(root, 30)\n",
    "tree.insert(root, 6)\n",
    "tree.insert(root, 8)\n",
    "\n",
    "# print(\"in-order traversal----->\")\n",
    "# tree.traverse_inorder(root)\n",
    "# print(\"pre-order traversal----->\")\n",
    "# tree.traverse_preorder(root)\n",
    "# print(\"post-order traversal----->\")\n",
    "# tree.traverse_postorder(root)\n",
    "# print(\"\\n\")\n",
    "print(\"Height of the binary tree:\", tree.height(root))"
   ]
  },
  {
   "cell_type": "code",
   "execution_count": null,
   "metadata": {},
   "outputs": [],
   "source": []
  }
 ],
 "metadata": {
  "kernelspec": {
   "display_name": "Python 3",
   "language": "python",
   "name": "python3"
  },
  "language_info": {
   "codemirror_mode": {
    "name": "ipython",
    "version": 3
   },
   "file_extension": ".py",
   "mimetype": "text/x-python",
   "name": "python",
   "nbconvert_exporter": "python",
   "pygments_lexer": "ipython3",
   "version": "3.11.4"
  }
 },
 "nbformat": 4,
 "nbformat_minor": 2
}
