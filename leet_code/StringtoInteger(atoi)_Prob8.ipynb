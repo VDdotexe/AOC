{
 "cells": [
  {
   "cell_type": "code",
   "execution_count": 3,
   "metadata": {},
   "outputs": [
    {
     "name": "stdout",
     "output_type": "stream",
     "text": [
      "42 <class 'int'>\n",
      "-42 <class 'int'>\n",
      "4193 <class 'int'>\n"
     ]
    }
   ],
   "source": [
    "test_Case = [\"42\", \"-42\", \"4193 with words\"]\n",
    "\n",
    "class Solution:\n",
    "    def myAtoi(s: str) -> int:\n",
    "        s = s.strip()\n",
    "        sign = 1\n",
    "        if s and (s[0] == \"-\" or s[0] == \"+\"):\n",
    "            if s[0] == '-':\n",
    "                sign = -1\n",
    "            s= s[1:]\n",
    "\n",
    "        lst = list()\n",
    "        for char in s:\n",
    "            if char.isdigit():\n",
    "                lst.append(char)\n",
    "            else:\n",
    "                break\n",
    "        res = 0\n",
    "        for digit in lst:\n",
    "            res = res * 10 + int(digit) #typecast\n",
    "        \n",
    "        final = sign * res\n",
    "        final = max(-2**31, min(final, 2**31 - 1)) \n",
    "\n",
    "        return final   \n",
    "    \n",
    "\n",
    "for i in range(len(test_Case)):\n",
    "    r1= Solution.myAtoi(test_Case[i])\n",
    "    print(r1, type(r1))"
   ]
  },
  {
   "cell_type": "code",
   "execution_count": null,
   "metadata": {},
   "outputs": [],
   "source": []
  }
 ],
 "metadata": {
  "kernelspec": {
   "display_name": "Python 3",
   "language": "python",
   "name": "python3"
  },
  "language_info": {
   "codemirror_mode": {
    "name": "ipython",
    "version": 3
   },
   "file_extension": ".py",
   "mimetype": "text/x-python",
   "name": "python",
   "nbconvert_exporter": "python",
   "pygments_lexer": "ipython3",
   "version": "3.11.4"
  }
 },
 "nbformat": 4,
 "nbformat_minor": 2
}
