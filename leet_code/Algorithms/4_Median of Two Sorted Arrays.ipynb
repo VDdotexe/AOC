{
 "cells": [
  {
   "cell_type": "code",
   "execution_count": null,
   "metadata": {},
   "outputs": [],
   "source": [
    "import math"
   ]
  },
  {
   "cell_type": "code",
   "execution_count": null,
   "metadata": {},
   "outputs": [],
   "source": [
    "class Solution:\n",
    "    def findMedianSortedArrays(self, l1: List[int], l2: List[int]) -> float:\n",
    "            res = list()\n",
    "            i = j = 0\n",
    "            while(i < len(l1) and j < len(l2)):\n",
    "                if(l1[i] < l2[j]):\n",
    "                    res.append(l1[i])\n",
    "                    i+=1\n",
    "                elif(l1[i] > l2[j]):\n",
    "                    res.append(l2[j])\n",
    "                    j+=1\n",
    "            \n",
    "            while(i < len(l1)):\n",
    "                res.append(l1[i])\n",
    "                i+=1\n",
    "            \n",
    "            while(j < len(l2)):\n",
    "                res.append(l2[j])\n",
    "                j+=1\n",
    "\n",
    "            print(res)\n",
    "\n",
    "            med = 0\n",
    "            list_len = len(res)\n",
    "            mid = math.floor(list_len/2)\n",
    "            \n",
    "            if (list_len % 2 == 0):\n",
    "                med = (res[mid] + res[mid - 1]) / 2\n",
    "                print(\"even\",med)\n",
    "            elif(list_len % 2 != 0):\n",
    "                med = (res[mid])\n",
    "                print(\"odd\",med)\n",
    "            \n",
    "            return med\n"
   ]
  }
 ],
 "metadata": {
  "language_info": {
   "name": "python"
  }
 },
 "nbformat": 4,
 "nbformat_minor": 2
}
