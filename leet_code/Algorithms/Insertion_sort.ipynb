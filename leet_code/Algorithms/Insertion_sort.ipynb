{
 "cells": [
  {
   "cell_type": "code",
   "execution_count": 47,
   "metadata": {},
   "outputs": [
    {
     "name": "stdout",
     "output_type": "stream",
     "text": [
      "the array you want sorted->  [3, 2, 1]\n"
     ]
    },
    {
     "data": {
      "text/plain": [
       "[1, 2, 3]"
      ]
     },
     "execution_count": 47,
     "metadata": {},
     "output_type": "execute_result"
    }
   ],
   "source": [
    "#  j   i\n",
    "# [5, 2, 4, 6, 1, 3]\n",
    "#\n",
    "class Solution: \n",
    "\n",
    "    def create_list(self) -> list:\n",
    "        list_length = int(input('enter the length-> '))\n",
    "        new_list = list()\n",
    "        for i in range(list_length):\n",
    "              arr_int = int(input(\"enter the integers you want sorted in a list-> \"))\n",
    "              new_list.append(arr_int)\n",
    "        print(\"the array you want sorted-> \", new_list)\n",
    "        self.data = new_list\n",
    "        return new_list\n",
    "        \n",
    "    def insertion_sort(a:list) -> list:\n",
    "        for i in range(1, len(a)):\n",
    "            key = a[i]\n",
    "            j = i - 1\n",
    "            while j >= 0 and a[j] > key:\n",
    "                a[j + 1] = a[j]\n",
    "                j = j - 1\n",
    "            a[j+1]= key\n",
    "        return a\n",
    "\n",
    "    def __init__(self):\n",
    "        pass\n",
    "\n",
    "obj = Solution()\n",
    "\n",
    "obj.insertion_sort(obj.create_list()) ###"
   ]
  },
  {
   "cell_type": "code",
   "execution_count": 54,
   "metadata": {},
   "outputs": [
    {
     "name": "stdout",
     "output_type": "stream",
     "text": [
      "the array you want sorted->  [2, 4, 1, 0, -1]\n"
     ]
    },
    {
     "data": {
      "text/plain": [
       "[-1, 0, 1, 2, 4]"
      ]
     },
     "execution_count": 54,
     "metadata": {},
     "output_type": "execute_result"
    }
   ],
   "source": [
    "#  j   i\n",
    "# [5, 2, 4, 6, 1, 3]\n",
    "#\n",
    "class Solution: \n",
    "\n",
    "    def __init__(self):\n",
    "        arr_str = input(\"enter the integers you want sorted in a list-> \")\n",
    "        new_list = [int(x) for x in arr_str.split()]\n",
    "        print(\"the array you want sorted-> \", new_list)\n",
    "        self.data = new_list\n",
    "        \n",
    "    def insertion_sort(a:list) -> list:\n",
    "        for i in range(1, len(a)):\n",
    "            key = a[i]\n",
    "            j = i - 1\n",
    "            while j >= 0 and a[j] > key:\n",
    "                a[j + 1] = a[j]\n",
    "                j = j - 1\n",
    "            a[j+1]= key\n",
    "        return a\n",
    "\n",
    "obj = Solution()\n",
    "\n",
    "Solution.insertion_sort(obj.data)"
   ]
  },
  {
   "cell_type": "code",
   "execution_count": 12,
   "metadata": {},
   "outputs": [],
   "source": [
    "import math"
   ]
  },
  {
   "cell_type": "code",
   "execution_count": 17,
   "metadata": {},
   "outputs": [
    {
     "name": "stdout",
     "output_type": "stream",
     "text": [
      "value of n: 44\n"
     ]
    }
   ],
   "source": [
    "def insertion_sort(n):\n",
    "    return 8 * n ** 2\n",
    "\n",
    "def merge_sort(n):\n",
    "    return 64 * n * math.log2(n)\n",
    "\n",
    "def find_intersection():\n",
    "    n = 2\n",
    "    while insertion_sort(n) < merge_sort(n):\n",
    "        n += 1\n",
    "    return n\n",
    "\n",
    "mathc_point = find_intersection()\n",
    "print(f\"value of n: {mathc_point}\")\n"
   ]
  },
  {
   "cell_type": "code",
   "execution_count": null,
   "metadata": {},
   "outputs": [],
   "source": []
  }
 ],
 "metadata": {
  "kernelspec": {
   "display_name": "Python 3",
   "language": "python",
   "name": "python3"
  },
  "language_info": {
   "codemirror_mode": {
    "name": "ipython",
    "version": 3
   },
   "file_extension": ".py",
   "mimetype": "text/x-python",
   "name": "python",
   "nbconvert_exporter": "python",
   "pygments_lexer": "ipython3",
   "version": "3.11.4"
  }
 },
 "nbformat": 4,
 "nbformat_minor": 2
}
