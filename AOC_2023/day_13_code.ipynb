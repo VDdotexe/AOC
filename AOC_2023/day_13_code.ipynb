{
 "cells": [
  {
   "cell_type": "code",
   "execution_count": 15,
   "metadata": {},
   "outputs": [
    {
     "name": "stdout",
     "output_type": "stream",
     "text": [
      "['#.##..#', '##.#.#.', '##.#.##', '#.##..#', '...####', '#.#..#.', '#.#..#.']\n"
     ]
    }
   ],
   "source": [
    "for block in open(\"day_13_pz.txt\").read().split(\"\\n\\n\"):\n",
    "    grid = block.splitlines()\n",
    "    print(grid)"
   ]
  },
  {
   "cell_type": "code",
   "execution_count": 49,
   "metadata": {},
   "outputs": [
    {
     "name": "stdout",
     "output_type": "stream",
     "text": [
      "31739\n"
     ]
    }
   ],
   "source": [
    "def find_mirror(grid):\n",
    "    for r in range(1, len(grid)):\n",
    "        above = grid[:r][::-1]\n",
    "        below = grid[r:]\n",
    "        \n",
    "        above = above[:len(below)]\n",
    "        below = below[:len(above)]\n",
    "        \n",
    "        if above == below:\n",
    "            return r\n",
    "        \n",
    "    return 0\n",
    "\n",
    "total = 0\n",
    "\n",
    "for block in open(\"day_13_pz.txt\").read().split(\"\\n\\n\"):\n",
    "    grid = block.splitlines()\n",
    "\n",
    "    row = find_mirror(grid)\n",
    "    total += row * 100\n",
    "\n",
    "    col = find_mirror(list(zip(*grid)))\n",
    "    total += col\n",
    "\n",
    "print(total)"
   ]
  },
  {
   "cell_type": "code",
   "execution_count": 10,
   "metadata": {},
   "outputs": [
    {
     "name": "stdout",
     "output_type": "stream",
     "text": [
      "['#.##..#', '##.#.#.', '##.#.##', '#.##..#', '...####', '#.#..#.', '#.#..#.']\n",
      "#.##..# ##.#.#. ##.#.## #.##..# ...#### #.#..#. #.#..#.\n",
      "[('#', '#', '#', '#', '.', '#', '#'), ('.', '#', '#', '.', '.', '.', '.'), ('#', '.', '.', '#', '.', '#', '#'), ('#', '#', '#', '#', '#', '.', '.'), ('.', '.', '.', '.', '#', '.', '.'), ('.', '#', '#', '.', '#', '#', '#'), ('#', '.', '#', '#', '#', '.', '.')]\n",
      "600\n"
     ]
    }
   ],
   "source": [
    "def cloak_of_invis(a_block:list) -> int:\n",
    "    for ro in range(1, len(a_block)):\n",
    "        ro_up = a_block[:ro][::-1] # reverse the shit coz you wanna compare the mirror images\n",
    "        ro_down = a_block[ro:]\n",
    "\n",
    "        ro_up = ro_up[:len(ro_down)]\n",
    "        ro_down = ro_down[:len(ro_up)]\n",
    "        #comparison starts from here\n",
    "        if ro_up == ro_down:\n",
    "            return ro\n",
    "    return 0\n",
    "    \n",
    "ans = 0\n",
    "for block in open(\"day_13_pz.txt\").read().split(\"\\n\\n\"):\n",
    "    temp_block = block.split(\"\\n\")\n",
    "    print(temp_block)\n",
    "    row = cloak_of_invis(temp_block)\n",
    "    ans += row * 100\n",
    "    print(*temp_block)\n",
    "    print(list(zip(*temp_block)))\n",
    "    col = cloak_of_invis(list(zip(*temp_block)))\n",
    "    ans += col\n",
    "\n",
    "print(ans)"
   ]
  },
  {
   "cell_type": "code",
   "execution_count": 2,
   "metadata": {},
   "outputs": [],
   "source": [
    "from collections import deque"
   ]
  },
  {
   "cell_type": "code",
   "execution_count": 9,
   "metadata": {},
   "outputs": [
    {
     "name": "stdout",
     "output_type": "stream",
     "text": [
      "deque([1, 2, 3])\n",
      "deque([1, 2, 3, 4])\n",
      "deque([9, 1, 2, 3, 4])\n"
     ]
    }
   ],
   "source": [
    "a = deque([1,2,3])\n",
    "print(a)\n",
    "\n",
    "a.append(4)\n",
    "print(a)\n",
    "\n",
    "a.appendleft(9)\n",
    "print(a)"
   ]
  },
  {
   "cell_type": "code",
   "execution_count": null,
   "metadata": {},
   "outputs": [],
   "source": []
  }
 ],
 "metadata": {
  "kernelspec": {
   "display_name": "Python 3",
   "language": "python",
   "name": "python3"
  },
  "language_info": {
   "codemirror_mode": {
    "name": "ipython",
    "version": 3
   },
   "file_extension": ".py",
   "mimetype": "text/x-python",
   "name": "python",
   "nbconvert_exporter": "python",
   "pygments_lexer": "ipython3",
   "version": "3.11.4"
  }
 },
 "nbformat": 4,
 "nbformat_minor": 2
}
