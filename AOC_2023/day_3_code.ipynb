{
 "cells": [
  {
   "cell_type": "code",
   "execution_count": 1,
   "metadata": {},
   "outputs": [],
   "source": [
    "import numpy as np\n",
    "from collections import deque, defaultdict\n",
    "import sys\n",
    "import re"
   ]
  },
  {
   "cell_type": "code",
   "execution_count": 2,
   "metadata": {},
   "outputs": [
    {
     "name": "stdout",
     "output_type": "stream",
     "text": [
      "\n",
      "\n",
      "[['4' '6' '7' '.' '.' '1' '1' '4' '.' '.']\n",
      " ['.' '.' '.' '*' '.' '.' '.' '.' '.' '.']\n",
      " ['.' '.' '3' '5' '.' '.' '6' '3' '3' '.']\n",
      " ['.' '.' '.' '.' '.' '.' '#' '.' '.' '.']\n",
      " ['6' '1' '7' '*' '.' '.' '.' '.' '.' '.']\n",
      " ['.' '.' '.' '.' '.' '+' '.' '5' '8' '.']\n",
      " ['.' '.' '5' '9' '2' '.' '.' '.' '.' '.']\n",
      " ['.' '.' '.' '.' '.' '.' '7' '5' '5' '.']\n",
      " ['.' '.' '.' '$' '.' '*' '.' '.' '.' '.']\n",
      " ['.' '6' '6' '4' '.' '5' '9' '8' '.' '.']]\n"
     ]
    }
   ],
   "source": [
    "with open(\"day_3_pz.txt\", \"r\") as file:\n",
    "    text_data = file.readlines()\n",
    "\n",
    "text_data = [line.strip() for line in text_data]\n",
    "rows = len(text_data)\n",
    "cols = max(len(line) for line in text_data)\n",
    "array = np.empty((rows, cols), dtype=str)\n",
    "\n",
    "for i, line in enumerate(text_data):\n",
    "    for j, char in enumerate(line):\n",
    "        array[i, j] = char\n",
    "\n",
    "print(\"\\n\")\n",
    "print(array)\n"
   ]
  },
  {
   "cell_type": "code",
   "execution_count": 15,
   "metadata": {},
   "outputs": [
    {
     "name": "stdout",
     "output_type": "stream",
     "text": [
      "['467..114..', '...*......', '..35..633.', '......#...', '617*......', '.....+.58.', '..592.....', '......755.', '...$.*....', '.664.598..']\n",
      "[467, 67, 7, 7, 7, 114, 14, 4, 4, 4, 4, 4, 4, 4, 4, 4, 4, 4, 4, 4, 4, 4, 35, 5, 5, 5, 633, 33, 3, 3, 3, 3, 3, 3, 3, 3, 3, 3, 3, 3, 617, 17, 7, 7, 7, 7, 7, 7, 7, 7, 7, 7, 7, 7, 7, 7, 7, 58, 8, 8, 8, 8, 592, 92, 2, 2, 2, 2, 2, 2, 2, 2, 2, 2, 2, 2, 755, 55, 5, 5, 5, 5, 5, 5, 5, 5, 5, 5, 5, 5, 5, 664, 64, 4, 4, 598, 98, 8, 8, 8]\n",
      "0\n"
     ]
    }
   ],
   "source": [
    "with open(\"day_3_pz.txt\", \"r\") as file:\n",
    "    ttext_data = file.readlines()\n",
    "\n",
    "ttext_data = [line.strip() for line in ttext_data]\n",
    "print(ttext_data)\n",
    "\n",
    "# function to create a 3 digit or 2 digit number if numbers are parsed 1 by 1\n",
    "def create_big_integer(digits: list):\n",
    "    queue = deque()\n",
    "    for digit in digits:\n",
    "        queue.appendleft(str(digit))  \n",
    "    big_integer = ''\n",
    "    while queue:\n",
    "        big_integer += queue.pop()  \n",
    "    return int(big_integer)\n",
    "\n",
    "def calculate_part_number_sum(schematic):\n",
    "    rows = len(schematic)\n",
    "    cols = len(schematic[0])\n",
    "    sum_of_part_numbers = 0\n",
    "    engine_parts_list= list()\n",
    "    \n",
    "    for i in range(rows):\n",
    "        for j in range(cols):\n",
    "            dict_part = dict() #update j here with the new value\n",
    "            if schematic[i][j].isdigit():\n",
    "                temp_list = list() \n",
    "                while(schematic[i][j].isdigit()):\n",
    "                    temp_list.append(schematic[i][j])\n",
    "                    j += 1\n",
    "            dict_part[len(temp_list)] = temp_list\n",
    "            engine_parts_list.append(create_big_integer(temp_list))\n",
    "            j = len(temp_list)\n",
    "    print(engine_parts_list)\n",
    "    return sum_of_part_numbers\n",
    "\n",
    "print(calculate_part_number_sum(ttext_data))"
   ]
  },
  {
   "cell_type": "code",
   "execution_count": 39,
   "metadata": {},
   "outputs": [],
   "source": [
    "with open(\"day_3_pz.txt\", \"r\") as file:\n",
    "    ttext_data = file.readlines()"
   ]
  },
  {
   "cell_type": "code",
   "execution_count": 45,
   "metadata": {},
   "outputs": [
    {
     "name": "stdout",
     "output_type": "stream",
     "text": [
      "[['4', '6', '7', '.', '.', '1', '1', '4', '.', '.'], ['.', '.', '.', '*', '.', '.', '.', '.', '.', '.'], ['.', '.', '3', '5', '.', '.', '6', '3', '3', '.'], ['.', '.', '.', '.', '.', '.', '#', '.', '.', '.'], ['6', '1', '7', '*', '.', '.', '.', '.', '.', '.'], ['.', '.', '.', '.', '.', '+', '.', '5', '8', '.'], ['.', '.', '5', '9', '2', '.', '.', '.', '.', '.'], ['.', '.', '.', '.', '.', '.', '7', '5', '5', '.'], ['.', '.', '.', '$', '.', '*', '.', '.', '.', '.'], ['.', '6', '6', '4', '.', '5', '9', '8', '.', '.']] 10 10\n",
      "4361\n"
     ]
    }
   ],
   "source": [
    "lines = [line.strip() for line in ttext_data] \n",
    "\n",
    "G = [[c for c in line] for line in lines]\n",
    "R = len(G)\n",
    "C = len(G[0])\n",
    "\n",
    "p1 = 0\n",
    "nums = defaultdict(list)\n",
    "for r in range(len(G)):\n",
    "  gears = set() # positions of '*' characters next to the current number\n",
    "  n = 0\n",
    "  has_part = False\n",
    "  for c in range(len(G[r])+1):\n",
    "    if c<C and G[r][c].isdigit():\n",
    "      n = n*10+int(G[r][c])\n",
    "      for rr in [-1,0,1]:\n",
    "        for cc in [-1,0,1]:\n",
    "          if 0<=r+rr<R and 0<=c+cc<C:\n",
    "            ch = G[r+rr][c+cc]\n",
    "            if not ch.isdigit() and ch != '.':\n",
    "              has_part = True\n",
    "            if ch=='*':\n",
    "              gears.add((r+rr, c+cc))\n",
    "    elif n>0:\n",
    "      for gear in gears:\n",
    "        nums[gear].append(n)\n",
    "      if has_part:\n",
    "        p1 += n\n",
    "      n = 0\n",
    "      has_part = False\n",
    "      gears = set()\n",
    "\n",
    "print(p1)"
   ]
  },
  {
   "cell_type": "code",
   "execution_count": null,
   "metadata": {},
   "outputs": [],
   "source": []
  }
 ],
 "metadata": {
  "kernelspec": {
   "display_name": "Python 3",
   "language": "python",
   "name": "python3"
  },
  "language_info": {
   "codemirror_mode": {
    "name": "ipython",
    "version": 3
   },
   "file_extension": ".py",
   "mimetype": "text/x-python",
   "name": "python",
   "nbconvert_exporter": "python",
   "pygments_lexer": "ipython3",
   "version": "3.11.4"
  }
 },
 "nbformat": 4,
 "nbformat_minor": 2
}
